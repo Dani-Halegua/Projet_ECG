{
 "cells": [
  {
   "cell_type": "code",
   "execution_count": 1,
   "id": "65ccfca5",
   "metadata": {},
   "outputs": [],
   "source": [
    "import pandas as pd\n",
    "import numpy as np\n",
    "import matplotlib.pyplot as plt\n",
    "import h5py\n",
    "\n",
    "from keras.models import load_model\n",
    "from tensorflow.keras.optimizers import Adam \n"
   ]
  },
  {
   "cell_type": "code",
   "execution_count": 5,
   "id": "ee10b297",
   "metadata": {},
   "outputs": [],
   "source": [
    "lead_order = [\"DI\", \"DII\", \"DIII\", \"AVL\", \"AVF\", \"AVR\", \"V1\", \"V2\", \"V3\", \"V4\", \"V5\", \"V6\"]\n",
    "df_attributes=pd.read_csv(\"attributes.csv\")\n",
    "path_data = \"C:/Users/danih/OneDrive/Bureau/M2 MAPI3/Machine Learning/Projets/BIG_PROJECT\"\n",
    "\n",
    "df_goldStandard = pd.read_csv(f'{path_data}/data/data/annotations/gold_standard.csv')\n",
    "df_goldStandard.rename(columns={\"1dAVb\":\"Un_dAVb\"},inplace=True)\n",
    "\n",
    "df_card1= pd.read_csv(f'{path_data}/data/data/annotations/cardiologist1.csv')\n",
    "df_card1.rename(columns={\"1dAVb\":\"Und_AVb\"},inplace=True)\n",
    "\n",
    "df_card2= pd.read_csv(f'{path_data}/data/data/annotations/cardiologist2.csv')\n",
    "df_card2.rename(columns={\"1dAVb\":\"Und_AVb\"},inplace=True)\n",
    "\n",
    "df_dnn= pd.read_csv(f'{path_data}/data/data/annotations/dnn.csv')\n",
    "df_dnn.rename(columns={\"1dAVb\":\"Und_AVb\"},inplace=True)\n",
    "\n",
    "\n",
    "df_card_res= pd.read_csv(f'{path_data}/data/data/annotations/cardiology_residents.csv')\n",
    "df_card_res.rename(columns={\"1dAVb\":\"Und_AVb\"},inplace=True)\n",
    "\n",
    "df_emerg_res= pd.read_csv(f'{path_data}/data/data/annotations/emergency_residents.csv')\n",
    "df_emerg_res.rename(columns={\"1dAVb\":\"Un_dAVb\"},inplace=True)\n",
    "\n",
    "df_medical_students= pd.read_csv(f'{path_data}/data/data/annotations/medical_students.csv')\n",
    "df_medical_students.rename(columns={\"1dAVb\":\"Un_dAVb\"},inplace=True)\n",
    "\n",
    "\n",
    "\n",
    "\n",
    "df_dnn.drop('Unnamed: 0',axis=1,inplace=True)\n",
    "\n",
    "\n",
    "# df=df_goldStandard.join(df_cardiologist1,lsuffix='_goldStandard', rsuffix='_card1').join(df_cardiologist2,\n",
    "#     rsuffix='card_2').join(df_dnn,rsuffix='_dnn').join(df_cardiology_residents,rsuffix='_card_res').join(\n",
    "#     df_emergency_residents,rsuffix='_emerg_res').join(df_medical_students,rsuffix='_med_stud').join(df_attributes)\n",
    "\n",
    "\n",
    "df_goldStandard['nb_abnormality'] =  df_goldStandard.sum(axis=1)"
   ]
  },
  {
   "cell_type": "code",
   "execution_count": 6,
   "id": "00431099",
   "metadata": {},
   "outputs": [
    {
     "data": {
      "text/html": [
       "<div>\n",
       "<style scoped>\n",
       "    .dataframe tbody tr th:only-of-type {\n",
       "        vertical-align: middle;\n",
       "    }\n",
       "\n",
       "    .dataframe tbody tr th {\n",
       "        vertical-align: top;\n",
       "    }\n",
       "\n",
       "    .dataframe thead th {\n",
       "        text-align: right;\n",
       "    }\n",
       "</style>\n",
       "<table border=\"1\" class=\"dataframe\">\n",
       "  <thead>\n",
       "    <tr style=\"text-align: right;\">\n",
       "      <th></th>\n",
       "      <th>Un_dAVb</th>\n",
       "      <th>RBBB</th>\n",
       "      <th>LBBB</th>\n",
       "      <th>SB</th>\n",
       "      <th>AF</th>\n",
       "      <th>ST</th>\n",
       "      <th>nb_abnormality</th>\n",
       "    </tr>\n",
       "  </thead>\n",
       "  <tbody>\n",
       "    <tr>\n",
       "      <th>0</th>\n",
       "      <td>0</td>\n",
       "      <td>0</td>\n",
       "      <td>0</td>\n",
       "      <td>0</td>\n",
       "      <td>0</td>\n",
       "      <td>0</td>\n",
       "      <td>0</td>\n",
       "    </tr>\n",
       "    <tr>\n",
       "      <th>1</th>\n",
       "      <td>0</td>\n",
       "      <td>0</td>\n",
       "      <td>1</td>\n",
       "      <td>0</td>\n",
       "      <td>0</td>\n",
       "      <td>0</td>\n",
       "      <td>1</td>\n",
       "    </tr>\n",
       "    <tr>\n",
       "      <th>2</th>\n",
       "      <td>0</td>\n",
       "      <td>0</td>\n",
       "      <td>0</td>\n",
       "      <td>0</td>\n",
       "      <td>0</td>\n",
       "      <td>0</td>\n",
       "      <td>0</td>\n",
       "    </tr>\n",
       "    <tr>\n",
       "      <th>3</th>\n",
       "      <td>0</td>\n",
       "      <td>0</td>\n",
       "      <td>0</td>\n",
       "      <td>0</td>\n",
       "      <td>0</td>\n",
       "      <td>0</td>\n",
       "      <td>0</td>\n",
       "    </tr>\n",
       "    <tr>\n",
       "      <th>4</th>\n",
       "      <td>0</td>\n",
       "      <td>0</td>\n",
       "      <td>0</td>\n",
       "      <td>0</td>\n",
       "      <td>0</td>\n",
       "      <td>0</td>\n",
       "      <td>0</td>\n",
       "    </tr>\n",
       "    <tr>\n",
       "      <th>...</th>\n",
       "      <td>...</td>\n",
       "      <td>...</td>\n",
       "      <td>...</td>\n",
       "      <td>...</td>\n",
       "      <td>...</td>\n",
       "      <td>...</td>\n",
       "      <td>...</td>\n",
       "    </tr>\n",
       "    <tr>\n",
       "      <th>822</th>\n",
       "      <td>0</td>\n",
       "      <td>0</td>\n",
       "      <td>0</td>\n",
       "      <td>0</td>\n",
       "      <td>0</td>\n",
       "      <td>0</td>\n",
       "      <td>0</td>\n",
       "    </tr>\n",
       "    <tr>\n",
       "      <th>823</th>\n",
       "      <td>0</td>\n",
       "      <td>0</td>\n",
       "      <td>0</td>\n",
       "      <td>0</td>\n",
       "      <td>0</td>\n",
       "      <td>0</td>\n",
       "      <td>0</td>\n",
       "    </tr>\n",
       "    <tr>\n",
       "      <th>824</th>\n",
       "      <td>0</td>\n",
       "      <td>0</td>\n",
       "      <td>0</td>\n",
       "      <td>0</td>\n",
       "      <td>0</td>\n",
       "      <td>0</td>\n",
       "      <td>0</td>\n",
       "    </tr>\n",
       "    <tr>\n",
       "      <th>825</th>\n",
       "      <td>0</td>\n",
       "      <td>0</td>\n",
       "      <td>0</td>\n",
       "      <td>0</td>\n",
       "      <td>0</td>\n",
       "      <td>0</td>\n",
       "      <td>0</td>\n",
       "    </tr>\n",
       "    <tr>\n",
       "      <th>826</th>\n",
       "      <td>1</td>\n",
       "      <td>0</td>\n",
       "      <td>0</td>\n",
       "      <td>0</td>\n",
       "      <td>0</td>\n",
       "      <td>0</td>\n",
       "      <td>1</td>\n",
       "    </tr>\n",
       "  </tbody>\n",
       "</table>\n",
       "<p>827 rows × 7 columns</p>\n",
       "</div>"
      ],
      "text/plain": [
       "     Un_dAVb  RBBB  LBBB  SB  AF  ST  nb_abnormality\n",
       "0          0     0     0   0   0   0               0\n",
       "1          0     0     1   0   0   0               1\n",
       "2          0     0     0   0   0   0               0\n",
       "3          0     0     0   0   0   0               0\n",
       "4          0     0     0   0   0   0               0\n",
       "..       ...   ...   ...  ..  ..  ..             ...\n",
       "822        0     0     0   0   0   0               0\n",
       "823        0     0     0   0   0   0               0\n",
       "824        0     0     0   0   0   0               0\n",
       "825        0     0     0   0   0   0               0\n",
       "826        1     0     0   0   0   0               1\n",
       "\n",
       "[827 rows x 7 columns]"
      ]
     },
     "execution_count": 6,
     "metadata": {},
     "output_type": "execute_result"
    }
   ],
   "source": [
    "df_goldStandard"
   ]
  },
  {
   "cell_type": "code",
   "execution_count": 7,
   "id": "405ca65d",
   "metadata": {},
   "outputs": [
    {
     "name": "stdout",
     "output_type": "stream",
     "text": [
      "(827, 4096, 12)\n"
     ]
    }
   ],
   "source": [
    "\n",
    "with h5py.File(f\"{path_data}/data/data/ecg_tracings.hdf5\", \"r\") as f:\n",
    "    x = np.array(f['tracings'])\n",
    "print(x.shape)\n"
   ]
  },
  {
   "cell_type": "markdown",
   "id": "4dad681a",
   "metadata": {},
   "source": [
    "## Modèle pré-entrainé pour réseaux de neurones"
   ]
  },
  {
   "cell_type": "code",
   "execution_count": 8,
   "id": "a5007854",
   "metadata": {},
   "outputs": [
    {
     "name": "stdout",
     "output_type": "stream",
     "text": [
      "[(None, 4096, 12)]\n",
      "(None, 4096, 64)\n",
      "(None, 4096, 64)\n",
      "(None, 4096, 64)\n",
      "(None, 4096, 128)\n",
      "(None, 4096, 128)\n",
      "(None, 4096, 128)\n",
      "(None, 4096, 128)\n",
      "(None, 1024, 64)\n",
      "(None, 1024, 128)\n",
      "(None, 1024, 128)\n",
      "(None, 1024, 128)\n",
      "(None, 1024, 128)\n",
      "(None, 1024, 128)\n",
      "(None, 1024, 128)\n",
      "(None, 1024, 196)\n",
      "(None, 1024, 196)\n",
      "(None, 1024, 196)\n",
      "(None, 1024, 196)\n",
      "(None, 256, 128)\n",
      "(None, 256, 196)\n",
      "(None, 256, 196)\n",
      "(None, 256, 196)\n",
      "(None, 256, 196)\n",
      "(None, 256, 196)\n",
      "(None, 256, 196)\n",
      "(None, 256, 256)\n",
      "(None, 256, 256)\n",
      "(None, 256, 256)\n",
      "(None, 256, 256)\n",
      "(None, 64, 196)\n",
      "(None, 64, 256)\n",
      "(None, 64, 256)\n",
      "(None, 64, 256)\n",
      "(None, 64, 256)\n",
      "(None, 64, 256)\n",
      "(None, 64, 256)\n",
      "(None, 64, 320)\n",
      "(None, 64, 320)\n",
      "(None, 64, 320)\n",
      "(None, 64, 320)\n",
      "(None, 16, 256)\n",
      "(None, 16, 320)\n",
      "(None, 16, 320)\n",
      "(None, 16, 320)\n",
      "(None, 16, 320)\n",
      "(None, 16, 320)\n",
      "(None, 16, 320)\n",
      "(None, 5120)\n",
      "(None, 6)\n",
      "Model: \"model_7\"\n",
      "__________________________________________________________________________________________________\n",
      "Layer (type)                    Output Shape         Param #     Connected to                     \n",
      "==================================================================================================\n",
      "signal (InputLayer)             [(None, 4096, 12)]   0                                            \n",
      "__________________________________________________________________________________________________\n",
      "conv1d_1 (Conv1D)               (None, 4096, 64)     12288       signal[0][0]                     \n",
      "__________________________________________________________________________________________________\n",
      "batch_normalization_1 (BatchNor (None, 4096, 64)     256         conv1d_1[0][0]                   \n",
      "__________________________________________________________________________________________________\n",
      "activation_1 (Activation)       (None, 4096, 64)     0           batch_normalization_1[0][0]      \n",
      "__________________________________________________________________________________________________\n",
      "conv1d_3 (Conv1D)               (None, 4096, 128)    131072      activation_1[0][0]               \n",
      "__________________________________________________________________________________________________\n",
      "batch_normalization_2 (BatchNor (None, 4096, 128)    512         conv1d_3[0][0]                   \n",
      "__________________________________________________________________________________________________\n",
      "activation_2 (Activation)       (None, 4096, 128)    0           batch_normalization_2[0][0]      \n",
      "__________________________________________________________________________________________________\n",
      "dropout_1 (Dropout)             (None, 4096, 128)    0           activation_2[0][0]               \n",
      "__________________________________________________________________________________________________\n",
      "max_pooling1d_1 (MaxPooling1D)  (None, 1024, 64)     0           activation_1[0][0]               \n",
      "__________________________________________________________________________________________________\n",
      "conv1d_4 (Conv1D)               (None, 1024, 128)    262144      dropout_1[0][0]                  \n",
      "__________________________________________________________________________________________________\n",
      "conv1d_2 (Conv1D)               (None, 1024, 128)    8192        max_pooling1d_1[0][0]            \n",
      "__________________________________________________________________________________________________\n",
      "add_1 (Add)                     (None, 1024, 128)    0           conv1d_4[0][0]                   \n",
      "                                                                 conv1d_2[0][0]                   \n",
      "__________________________________________________________________________________________________\n",
      "batch_normalization_3 (BatchNor (None, 1024, 128)    512         add_1[0][0]                      \n",
      "__________________________________________________________________________________________________\n",
      "activation_3 (Activation)       (None, 1024, 128)    0           batch_normalization_3[0][0]      \n",
      "__________________________________________________________________________________________________\n",
      "dropout_2 (Dropout)             (None, 1024, 128)    0           activation_3[0][0]               \n",
      "__________________________________________________________________________________________________\n",
      "conv1d_6 (Conv1D)               (None, 1024, 196)    401408      dropout_2[0][0]                  \n",
      "__________________________________________________________________________________________________\n",
      "batch_normalization_4 (BatchNor (None, 1024, 196)    784         conv1d_6[0][0]                   \n",
      "__________________________________________________________________________________________________\n",
      "activation_4 (Activation)       (None, 1024, 196)    0           batch_normalization_4[0][0]      \n",
      "__________________________________________________________________________________________________\n",
      "dropout_3 (Dropout)             (None, 1024, 196)    0           activation_4[0][0]               \n",
      "__________________________________________________________________________________________________\n",
      "max_pooling1d_2 (MaxPooling1D)  (None, 256, 128)     0           add_1[0][0]                      \n",
      "__________________________________________________________________________________________________\n",
      "conv1d_7 (Conv1D)               (None, 256, 196)     614656      dropout_3[0][0]                  \n",
      "__________________________________________________________________________________________________\n",
      "conv1d_5 (Conv1D)               (None, 256, 196)     25088       max_pooling1d_2[0][0]            \n",
      "__________________________________________________________________________________________________\n",
      "add_2 (Add)                     (None, 256, 196)     0           conv1d_7[0][0]                   \n",
      "                                                                 conv1d_5[0][0]                   \n",
      "__________________________________________________________________________________________________\n",
      "batch_normalization_5 (BatchNor (None, 256, 196)     784         add_2[0][0]                      \n",
      "__________________________________________________________________________________________________\n",
      "activation_5 (Activation)       (None, 256, 196)     0           batch_normalization_5[0][0]      \n",
      "__________________________________________________________________________________________________\n",
      "dropout_4 (Dropout)             (None, 256, 196)     0           activation_5[0][0]               \n",
      "__________________________________________________________________________________________________\n",
      "conv1d_9 (Conv1D)               (None, 256, 256)     802816      dropout_4[0][0]                  \n",
      "__________________________________________________________________________________________________\n",
      "batch_normalization_6 (BatchNor (None, 256, 256)     1024        conv1d_9[0][0]                   \n",
      "__________________________________________________________________________________________________\n",
      "activation_6 (Activation)       (None, 256, 256)     0           batch_normalization_6[0][0]      \n",
      "__________________________________________________________________________________________________\n",
      "dropout_5 (Dropout)             (None, 256, 256)     0           activation_6[0][0]               \n",
      "__________________________________________________________________________________________________\n",
      "max_pooling1d_3 (MaxPooling1D)  (None, 64, 196)      0           add_2[0][0]                      \n",
      "__________________________________________________________________________________________________\n",
      "conv1d_10 (Conv1D)              (None, 64, 256)      1048576     dropout_5[0][0]                  \n",
      "__________________________________________________________________________________________________\n",
      "conv1d_8 (Conv1D)               (None, 64, 256)      50176       max_pooling1d_3[0][0]            \n",
      "__________________________________________________________________________________________________\n",
      "add_3 (Add)                     (None, 64, 256)      0           conv1d_10[0][0]                  \n",
      "                                                                 conv1d_8[0][0]                   \n",
      "__________________________________________________________________________________________________\n",
      "batch_normalization_7 (BatchNor (None, 64, 256)      1024        add_3[0][0]                      \n",
      "__________________________________________________________________________________________________\n",
      "activation_7 (Activation)       (None, 64, 256)      0           batch_normalization_7[0][0]      \n",
      "__________________________________________________________________________________________________\n",
      "dropout_6 (Dropout)             (None, 64, 256)      0           activation_7[0][0]               \n",
      "__________________________________________________________________________________________________\n",
      "conv1d_12 (Conv1D)              (None, 64, 320)      1310720     dropout_6[0][0]                  \n",
      "__________________________________________________________________________________________________\n",
      "batch_normalization_8 (BatchNor (None, 64, 320)      1280        conv1d_12[0][0]                  \n",
      "__________________________________________________________________________________________________\n",
      "activation_8 (Activation)       (None, 64, 320)      0           batch_normalization_8[0][0]      \n",
      "__________________________________________________________________________________________________\n",
      "dropout_7 (Dropout)             (None, 64, 320)      0           activation_8[0][0]               \n",
      "__________________________________________________________________________________________________\n",
      "max_pooling1d_4 (MaxPooling1D)  (None, 16, 256)      0           add_3[0][0]                      \n",
      "__________________________________________________________________________________________________\n",
      "conv1d_13 (Conv1D)              (None, 16, 320)      1638400     dropout_7[0][0]                  \n",
      "__________________________________________________________________________________________________\n",
      "conv1d_11 (Conv1D)              (None, 16, 320)      81920       max_pooling1d_4[0][0]            \n",
      "__________________________________________________________________________________________________\n",
      "add_4 (Add)                     (None, 16, 320)      0           conv1d_13[0][0]                  \n",
      "                                                                 conv1d_11[0][0]                  \n",
      "__________________________________________________________________________________________________\n",
      "batch_normalization_9 (BatchNor (None, 16, 320)      1280        add_4[0][0]                      \n",
      "__________________________________________________________________________________________________\n",
      "activation_9 (Activation)       (None, 16, 320)      0           batch_normalization_9[0][0]      \n",
      "__________________________________________________________________________________________________\n",
      "dropout_8 (Dropout)             (None, 16, 320)      0           activation_9[0][0]               \n",
      "__________________________________________________________________________________________________\n",
      "flatten_1 (Flatten)             (None, 5120)         0           dropout_8[0][0]                  \n",
      "__________________________________________________________________________________________________\n",
      "dense_8 (Dense)                 (None, 6)            30726       flatten_1[0][0]                  \n",
      "==================================================================================================\n",
      "Total params: 6,425,638\n",
      "Trainable params: 6,421,910\n",
      "Non-trainable params: 3,728\n",
      "__________________________________________________________________________________________________\n",
      "None\n"
     ]
    }
   ],
   "source": [
    "model = load_model(f\"{path_data}/model/model/model.hdf5\", compile=False)\n",
    "model.compile(loss='binary_crossentropy', optimizer=Adam())\n",
    "\n",
    "for layer in model.layers:\n",
    "    print(layer.output_shape)\n",
    "print(model.summary())"
   ]
  },
  {
   "cell_type": "code",
   "execution_count": 9,
   "id": "53a03665",
   "metadata": {},
   "outputs": [
    {
     "name": "stdout",
     "output_type": "stream",
     "text": [
      "26/26 [==============================] - 28s 1s/step\n"
     ]
    }
   ],
   "source": [
    "y_pred = model.predict(x,verbose = 1)\n",
    "\n"
   ]
  },
  {
   "cell_type": "code",
   "execution_count": 10,
   "id": "02bd68e7",
   "metadata": {},
   "outputs": [
    {
     "data": {
      "text/html": [
       "<div>\n",
       "<style scoped>\n",
       "    .dataframe tbody tr th:only-of-type {\n",
       "        vertical-align: middle;\n",
       "    }\n",
       "\n",
       "    .dataframe tbody tr th {\n",
       "        vertical-align: top;\n",
       "    }\n",
       "\n",
       "    .dataframe thead th {\n",
       "        text-align: right;\n",
       "    }\n",
       "</style>\n",
       "<table border=\"1\" class=\"dataframe\">\n",
       "  <thead>\n",
       "    <tr style=\"text-align: right;\">\n",
       "      <th></th>\n",
       "      <th>Proba_1dAVb</th>\n",
       "      <th>Proba_RBBB</th>\n",
       "      <th>Proba_LBBB</th>\n",
       "      <th>Proba_SB</th>\n",
       "      <th>Proba_AF</th>\n",
       "      <th>Proba_ST</th>\n",
       "    </tr>\n",
       "  </thead>\n",
       "  <tbody>\n",
       "    <tr>\n",
       "      <th>0.0</th>\n",
       "      <td>1.424320e-06</td>\n",
       "      <td>1.071004e-07</td>\n",
       "      <td>2.633703e-07</td>\n",
       "      <td>4.537750e-07</td>\n",
       "      <td>9.485395e-07</td>\n",
       "      <td>6.413525e-09</td>\n",
       "    </tr>\n",
       "    <tr>\n",
       "      <th>1.0</th>\n",
       "      <td>2.889732e-02</td>\n",
       "      <td>2.006710e-03</td>\n",
       "      <td>3.177863e-01</td>\n",
       "      <td>2.827818e-05</td>\n",
       "      <td>4.834345e-02</td>\n",
       "      <td>3.205240e-04</td>\n",
       "    </tr>\n",
       "    <tr>\n",
       "      <th>2.0</th>\n",
       "      <td>3.112853e-04</td>\n",
       "      <td>2.940376e-05</td>\n",
       "      <td>4.175250e-06</td>\n",
       "      <td>1.971315e-05</td>\n",
       "      <td>9.349018e-03</td>\n",
       "      <td>2.493309e-05</td>\n",
       "    </tr>\n",
       "    <tr>\n",
       "      <th>3.0</th>\n",
       "      <td>2.396912e-09</td>\n",
       "      <td>1.734494e-09</td>\n",
       "      <td>6.939355e-10</td>\n",
       "      <td>8.173876e-10</td>\n",
       "      <td>5.682145e-09</td>\n",
       "      <td>2.767275e-10</td>\n",
       "    </tr>\n",
       "    <tr>\n",
       "      <th>4.0</th>\n",
       "      <td>5.306005e-04</td>\n",
       "      <td>3.533459e-06</td>\n",
       "      <td>3.394174e-07</td>\n",
       "      <td>1.430142e-06</td>\n",
       "      <td>2.242625e-04</td>\n",
       "      <td>4.707765e-06</td>\n",
       "    </tr>\n",
       "    <tr>\n",
       "      <th>...</th>\n",
       "      <td>...</td>\n",
       "      <td>...</td>\n",
       "      <td>...</td>\n",
       "      <td>...</td>\n",
       "      <td>...</td>\n",
       "      <td>...</td>\n",
       "    </tr>\n",
       "    <tr>\n",
       "      <th>822.0</th>\n",
       "      <td>2.662169e-06</td>\n",
       "      <td>2.271635e-07</td>\n",
       "      <td>1.546323e-07</td>\n",
       "      <td>1.969674e-07</td>\n",
       "      <td>1.191892e-05</td>\n",
       "      <td>3.100990e-08</td>\n",
       "    </tr>\n",
       "    <tr>\n",
       "      <th>823.0</th>\n",
       "      <td>4.383028e-04</td>\n",
       "      <td>1.032207e-05</td>\n",
       "      <td>1.012705e-04</td>\n",
       "      <td>4.085054e-08</td>\n",
       "      <td>8.352697e-04</td>\n",
       "      <td>6.998936e-07</td>\n",
       "    </tr>\n",
       "    <tr>\n",
       "      <th>824.0</th>\n",
       "      <td>6.078317e-07</td>\n",
       "      <td>3.985351e-08</td>\n",
       "      <td>1.985758e-08</td>\n",
       "      <td>1.092500e-08</td>\n",
       "      <td>1.017582e-06</td>\n",
       "      <td>3.607297e-08</td>\n",
       "    </tr>\n",
       "    <tr>\n",
       "      <th>825.0</th>\n",
       "      <td>3.941979e-08</td>\n",
       "      <td>2.405508e-09</td>\n",
       "      <td>8.350511e-10</td>\n",
       "      <td>9.778340e-09</td>\n",
       "      <td>6.802806e-08</td>\n",
       "      <td>3.952344e-09</td>\n",
       "    </tr>\n",
       "    <tr>\n",
       "      <th>826.0</th>\n",
       "      <td>1.733206e-01</td>\n",
       "      <td>2.456665e-03</td>\n",
       "      <td>8.600608e-05</td>\n",
       "      <td>4.635297e-05</td>\n",
       "      <td>2.052367e-03</td>\n",
       "      <td>7.277382e-05</td>\n",
       "    </tr>\n",
       "  </tbody>\n",
       "</table>\n",
       "<p>827 rows × 6 columns</p>\n",
       "</div>"
      ],
      "text/plain": [
       "        Proba_1dAVb    Proba_RBBB    Proba_LBBB      Proba_SB      Proba_AF  \\\n",
       "0.0    1.424320e-06  1.071004e-07  2.633703e-07  4.537750e-07  9.485395e-07   \n",
       "1.0    2.889732e-02  2.006710e-03  3.177863e-01  2.827818e-05  4.834345e-02   \n",
       "2.0    3.112853e-04  2.940376e-05  4.175250e-06  1.971315e-05  9.349018e-03   \n",
       "3.0    2.396912e-09  1.734494e-09  6.939355e-10  8.173876e-10  5.682145e-09   \n",
       "4.0    5.306005e-04  3.533459e-06  3.394174e-07  1.430142e-06  2.242625e-04   \n",
       "...             ...           ...           ...           ...           ...   \n",
       "822.0  2.662169e-06  2.271635e-07  1.546323e-07  1.969674e-07  1.191892e-05   \n",
       "823.0  4.383028e-04  1.032207e-05  1.012705e-04  4.085054e-08  8.352697e-04   \n",
       "824.0  6.078317e-07  3.985351e-08  1.985758e-08  1.092500e-08  1.017582e-06   \n",
       "825.0  3.941979e-08  2.405508e-09  8.350511e-10  9.778340e-09  6.802806e-08   \n",
       "826.0  1.733206e-01  2.456665e-03  8.600608e-05  4.635297e-05  2.052367e-03   \n",
       "\n",
       "           Proba_ST  \n",
       "0.0    6.413525e-09  \n",
       "1.0    3.205240e-04  \n",
       "2.0    2.493309e-05  \n",
       "3.0    2.767275e-10  \n",
       "4.0    4.707765e-06  \n",
       "...             ...  \n",
       "822.0  3.100990e-08  \n",
       "823.0  6.998936e-07  \n",
       "824.0  3.607297e-08  \n",
       "825.0  3.952344e-09  \n",
       "826.0  7.277382e-05  \n",
       "\n",
       "[827 rows x 6 columns]"
      ]
     },
     "metadata": {},
     "output_type": "display_data"
    }
   ],
   "source": [
    "ind = np.linspace(0,826,827)\n",
    "\n",
    "df_pred = pd.DataFrame(y_pred, index = ind,columns=['Proba_1dAVb','Proba_RBBB','Proba_LBBB','Proba_SB','Proba_AF','Proba_ST'])\n",
    "\n",
    "display(df_pred)    #prédictions du réseau de neurones sur le modèle pré-entrainé"
   ]
  },
  {
   "cell_type": "markdown",
   "id": "51c08609",
   "metadata": {},
   "source": [
    "## Précisions des différents étudiants/médecins par rapport au gold standard\n",
    "On compare le nombre d'anomalies prédites par les différents étudiants/médecins par rapport au gold standard"
   ]
  },
  {
   "cell_type": "code",
   "execution_count": 96,
   "id": "408a0206",
   "metadata": {},
   "outputs": [],
   "source": [
    "from sklearn.metrics import accuracy_score, f1_score, precision_score, recall_score, classification_report, confusion_matrix"
   ]
  },
  {
   "cell_type": "code",
   "execution_count": 50,
   "id": "39fd37b9",
   "metadata": {},
   "outputs": [
    {
     "name": "stdout",
     "output_type": "stream",
     "text": [
      "pourcentage de patient ayant aucune anomalie 82.34582829504232\n",
      "pourcentage de patient ayant 1 anomalie 16.203143893591292\n",
      "pourcentage de patient ayant 2 anomalies 1.4510278113663846\n",
      "pourcentage de patient ayant + de 2 anomalies 0.0\n"
     ]
    }
   ],
   "source": [
    "y_true = df_goldStandard['nb_abnormality']\n",
    "\n",
    "\n",
    "print('pourcentage de patient ayant aucune anomalie',len(y_true[y_true==0])/len(y_true)*100)\n",
    "print('pourcentage de patient ayant 1 anomalie',len(y_true[y_true==1])/len(y_true)*100)\n",
    "print('pourcentage de patient ayant 2 anomalies',len(y_true[y_true==2])/len(y_true)*100)\n",
    "print('pourcentage de patient ayant + de 2 anomalies',len(y_true[y_true>2])/len(y_true)*100)"
   ]
  },
  {
   "cell_type": "code",
   "execution_count": 21,
   "id": "cf45bdaa",
   "metadata": {},
   "outputs": [
    {
     "name": "stdout",
     "output_type": "stream",
     "text": [
      "F1 score du cardiologist 1= 0.9654864414968609\n"
     ]
    },
    {
     "data": {
      "text/plain": [
       "array([[674,   7,   0],\n",
       "       [ 19, 114,   1],\n",
       "       [  0,   1,  11]], dtype=int64)"
      ]
     },
     "execution_count": 21,
     "metadata": {},
     "output_type": "execute_result"
    }
   ],
   "source": [
    "\n",
    "y_pred_card1=df_card1.sum(axis=1)\n",
    "\n",
    "\n",
    "print('F1 score du cardiologist 1=', f1_score(y_true,y_pred_card1,average='weighted'))\n",
    "confusion_matrix(y_true,y_pred_card1)"
   ]
  },
  {
   "cell_type": "code",
   "execution_count": 31,
   "id": "daaf0a58",
   "metadata": {},
   "outputs": [
    {
     "name": "stdout",
     "output_type": "stream",
     "text": [
      "F1 score du cardiologist 2= 0.9804184976636632\n"
     ]
    },
    {
     "data": {
      "text/plain": [
       "array([[677,   3,   1],\n",
       "       [ 12, 122,   0],\n",
       "       [  0,   0,  12]], dtype=int64)"
      ]
     },
     "execution_count": 31,
     "metadata": {},
     "output_type": "execute_result"
    }
   ],
   "source": [
    "y_pred_card2=df_card2.sum(a\n",
    "\n",
    "print('F1 score du cardiologist 2=', f1_score(y_true,y_pred_card2,average='weighted'))\n",
    "confusion_matrix(y_true,y_pred_card2)"
   ]
  },
  {
   "cell_type": "code",
   "execution_count": 32,
   "id": "c4ab5097",
   "metadata": {},
   "outputs": [
    {
     "name": "stdout",
     "output_type": "stream",
     "text": [
      "F1 score du réseau de neurones= 0.9763569011176221\n"
     ]
    },
    {
     "data": {
      "text/plain": [
       "array([[674,   7,   0],\n",
       "       [  6, 122,   6],\n",
       "       [  0,   1,  11]], dtype=int64)"
      ]
     },
     "execution_count": 32,
     "metadata": {},
     "output_type": "execute_result"
    }
   ],
   "source": [
    "y_pred_dnn=df_dnn.sum(axis=1)\n",
    "\n",
    "\n",
    "print('F1 score du réseau de neurones=', f1_score(y_true,y_pred_dnn,average='weighted'))\n",
    "confusion_matrix(y_true,y_pred_dnn)"
   ]
  },
  {
   "cell_type": "code",
   "execution_count": 33,
   "id": "d0029d80",
   "metadata": {},
   "outputs": [
    {
     "name": "stdout",
     "output_type": "stream",
     "text": [
      "F1 score des 2 résidents en cardiologie= 0.959424594726542\n"
     ]
    },
    {
     "data": {
      "text/plain": [
       "array([[672,   9,   0],\n",
       "       [ 17, 114,   3],\n",
       "       [  1,   3,   8]], dtype=int64)"
      ]
     },
     "execution_count": 33,
     "metadata": {},
     "output_type": "execute_result"
    }
   ],
   "source": [
    "y_pred_card_res=df_card_res.sum(axis=1)\n",
    "\n",
    "\n",
    "print('F1 score des 2 résidents en cardiologie=', f1_score(y_true,y_pred_card_res,average='weighted'))\n",
    "confusion_matrix(y_true,y_pred_card_res)"
   ]
  },
  {
   "cell_type": "code",
   "execution_count": 34,
   "id": "c73c3a04",
   "metadata": {},
   "outputs": [
    {
     "name": "stdout",
     "output_type": "stream",
     "text": [
      "F1 score des 2 urgentistes résidents= 0.9525956775606055\n"
     ]
    },
    {
     "data": {
      "text/plain": [
       "array([[664,  17,   0],\n",
       "       [ 17, 115,   2],\n",
       "       [  3,   0,   9]], dtype=int64)"
      ]
     },
     "execution_count": 34,
     "metadata": {},
     "output_type": "execute_result"
    }
   ],
   "source": [
    "y_pred_emerg_res=df_emerg_res.sum(axis=1)\n",
    "\n",
    "\n",
    "print('F1 score des 2 urgentistes résidents=', f1_score(y_true,y_pred_emerg_res,average='weighted'))\n",
    "confusion_matrix(y_true,y_pred_emerg_res)"
   ]
  },
  {
   "cell_type": "code",
   "execution_count": 52,
   "id": "629c0a9e",
   "metadata": {},
   "outputs": [
    {
     "name": "stdout",
     "output_type": "stream",
     "text": [
      "F1 score des 2 étudiants en médecine= 0.9460800081880871\n"
     ]
    },
    {
     "data": {
      "text/plain": [
       "array([[664,  13,   4,   0],\n",
       "       [ 13, 106,  14,   1],\n",
       "       [  1,   2,   9,   0],\n",
       "       [  0,   0,   0,   0]], dtype=int64)"
      ]
     },
     "execution_count": 52,
     "metadata": {},
     "output_type": "execute_result"
    }
   ],
   "source": [
    "y_pred_med_stud=df_medical_students.sum(axis=1)\n",
    "\n",
    "\n",
    "print('F1 score des 2 étudiants en médecine=', f1_score(y_true,y_pred_med_stud,average='weighted'))\n",
    "confusion_matrix(y_true,y_pred_med_stud)\n",
    "\n"
   ]
  },
  {
   "cell_type": "markdown",
   "id": "c2459eb7",
   "metadata": {},
   "source": [
    "## Apprentissage supervisé\n",
    "\n",
    "On peut également entraîner des classifieurs SVC, LogisticRegression, RandomForest pour comparer les résultats"
   ]
  },
  {
   "cell_type": "code",
   "execution_count": 54,
   "id": "680e4661",
   "metadata": {},
   "outputs": [],
   "source": [
    "from sklearn.linear_model import LogisticRegression\n",
    "from sklearn.ensemble import RandomForestClassifier\n",
    "from sklearn.svm import LinearSVC\n",
    "from sklearn.model_selection import train_test_split\n"
   ]
  },
  {
   "cell_type": "code",
   "execution_count": 48,
   "id": "2fe8719a",
   "metadata": {},
   "outputs": [
    {
     "data": {
      "text/html": [
       "<div>\n",
       "<style scoped>\n",
       "    .dataframe tbody tr th:only-of-type {\n",
       "        vertical-align: middle;\n",
       "    }\n",
       "\n",
       "    .dataframe tbody tr th {\n",
       "        vertical-align: top;\n",
       "    }\n",
       "\n",
       "    .dataframe thead th {\n",
       "        text-align: right;\n",
       "    }\n",
       "</style>\n",
       "<table border=\"1\" class=\"dataframe\">\n",
       "  <thead>\n",
       "    <tr style=\"text-align: right;\">\n",
       "      <th></th>\n",
       "      <th>0</th>\n",
       "      <th>1</th>\n",
       "      <th>2</th>\n",
       "      <th>3</th>\n",
       "      <th>4</th>\n",
       "      <th>5</th>\n",
       "      <th>6</th>\n",
       "      <th>7</th>\n",
       "      <th>8</th>\n",
       "      <th>9</th>\n",
       "      <th>...</th>\n",
       "      <th>49142</th>\n",
       "      <th>49143</th>\n",
       "      <th>49144</th>\n",
       "      <th>49145</th>\n",
       "      <th>49146</th>\n",
       "      <th>49147</th>\n",
       "      <th>49148</th>\n",
       "      <th>49149</th>\n",
       "      <th>49150</th>\n",
       "      <th>49151</th>\n",
       "    </tr>\n",
       "  </thead>\n",
       "  <tbody>\n",
       "    <tr>\n",
       "      <th>0</th>\n",
       "      <td>0.0</td>\n",
       "      <td>0.0</td>\n",
       "      <td>0.0</td>\n",
       "      <td>0.0</td>\n",
       "      <td>0.0</td>\n",
       "      <td>0.0</td>\n",
       "      <td>0.0</td>\n",
       "      <td>0.0</td>\n",
       "      <td>0.0</td>\n",
       "      <td>0.0</td>\n",
       "      <td>...</td>\n",
       "      <td>0.000000</td>\n",
       "      <td>0.000000</td>\n",
       "      <td>0.000000</td>\n",
       "      <td>0.000000</td>\n",
       "      <td>0.000000</td>\n",
       "      <td>0.000000</td>\n",
       "      <td>0.00000</td>\n",
       "      <td>0.000000</td>\n",
       "      <td>0.000000</td>\n",
       "      <td>0.000000</td>\n",
       "    </tr>\n",
       "    <tr>\n",
       "      <th>1</th>\n",
       "      <td>0.0</td>\n",
       "      <td>0.0</td>\n",
       "      <td>0.0</td>\n",
       "      <td>0.0</td>\n",
       "      <td>0.0</td>\n",
       "      <td>0.0</td>\n",
       "      <td>0.0</td>\n",
       "      <td>0.0</td>\n",
       "      <td>0.0</td>\n",
       "      <td>0.0</td>\n",
       "      <td>...</td>\n",
       "      <td>0.407469</td>\n",
       "      <td>-0.397223</td>\n",
       "      <td>0.211611</td>\n",
       "      <td>0.178307</td>\n",
       "      <td>1.942285</td>\n",
       "      <td>2.809755</td>\n",
       "      <td>1.25819</td>\n",
       "      <td>1.202997</td>\n",
       "      <td>1.659529</td>\n",
       "      <td>-0.759827</td>\n",
       "    </tr>\n",
       "    <tr>\n",
       "      <th>2</th>\n",
       "      <td>0.0</td>\n",
       "      <td>0.0</td>\n",
       "      <td>0.0</td>\n",
       "      <td>0.0</td>\n",
       "      <td>0.0</td>\n",
       "      <td>0.0</td>\n",
       "      <td>0.0</td>\n",
       "      <td>0.0</td>\n",
       "      <td>0.0</td>\n",
       "      <td>0.0</td>\n",
       "      <td>...</td>\n",
       "      <td>0.000000</td>\n",
       "      <td>0.000000</td>\n",
       "      <td>0.000000</td>\n",
       "      <td>0.000000</td>\n",
       "      <td>0.000000</td>\n",
       "      <td>0.000000</td>\n",
       "      <td>0.00000</td>\n",
       "      <td>0.000000</td>\n",
       "      <td>0.000000</td>\n",
       "      <td>0.000000</td>\n",
       "    </tr>\n",
       "    <tr>\n",
       "      <th>3</th>\n",
       "      <td>0.0</td>\n",
       "      <td>0.0</td>\n",
       "      <td>0.0</td>\n",
       "      <td>0.0</td>\n",
       "      <td>0.0</td>\n",
       "      <td>0.0</td>\n",
       "      <td>0.0</td>\n",
       "      <td>0.0</td>\n",
       "      <td>0.0</td>\n",
       "      <td>0.0</td>\n",
       "      <td>...</td>\n",
       "      <td>0.000000</td>\n",
       "      <td>0.000000</td>\n",
       "      <td>0.000000</td>\n",
       "      <td>0.000000</td>\n",
       "      <td>0.000000</td>\n",
       "      <td>0.000000</td>\n",
       "      <td>0.00000</td>\n",
       "      <td>0.000000</td>\n",
       "      <td>0.000000</td>\n",
       "      <td>0.000000</td>\n",
       "    </tr>\n",
       "    <tr>\n",
       "      <th>4</th>\n",
       "      <td>0.0</td>\n",
       "      <td>0.0</td>\n",
       "      <td>0.0</td>\n",
       "      <td>0.0</td>\n",
       "      <td>0.0</td>\n",
       "      <td>0.0</td>\n",
       "      <td>0.0</td>\n",
       "      <td>0.0</td>\n",
       "      <td>0.0</td>\n",
       "      <td>0.0</td>\n",
       "      <td>...</td>\n",
       "      <td>0.000000</td>\n",
       "      <td>0.000000</td>\n",
       "      <td>0.000000</td>\n",
       "      <td>0.000000</td>\n",
       "      <td>0.000000</td>\n",
       "      <td>0.000000</td>\n",
       "      <td>0.00000</td>\n",
       "      <td>0.000000</td>\n",
       "      <td>0.000000</td>\n",
       "      <td>0.000000</td>\n",
       "    </tr>\n",
       "  </tbody>\n",
       "</table>\n",
       "<p>5 rows × 49152 columns</p>\n",
       "</div>"
      ],
      "text/plain": [
       "   0      1      2      3      4      5      6      7      8      9      ...  \\\n",
       "0    0.0    0.0    0.0    0.0    0.0    0.0    0.0    0.0    0.0    0.0  ...   \n",
       "1    0.0    0.0    0.0    0.0    0.0    0.0    0.0    0.0    0.0    0.0  ...   \n",
       "2    0.0    0.0    0.0    0.0    0.0    0.0    0.0    0.0    0.0    0.0  ...   \n",
       "3    0.0    0.0    0.0    0.0    0.0    0.0    0.0    0.0    0.0    0.0  ...   \n",
       "4    0.0    0.0    0.0    0.0    0.0    0.0    0.0    0.0    0.0    0.0  ...   \n",
       "\n",
       "      49142     49143     49144     49145     49146     49147    49148  \\\n",
       "0  0.000000  0.000000  0.000000  0.000000  0.000000  0.000000  0.00000   \n",
       "1  0.407469 -0.397223  0.211611  0.178307  1.942285  2.809755  1.25819   \n",
       "2  0.000000  0.000000  0.000000  0.000000  0.000000  0.000000  0.00000   \n",
       "3  0.000000  0.000000  0.000000  0.000000  0.000000  0.000000  0.00000   \n",
       "4  0.000000  0.000000  0.000000  0.000000  0.000000  0.000000  0.00000   \n",
       "\n",
       "      49149     49150     49151  \n",
       "0  0.000000  0.000000  0.000000  \n",
       "1  1.202997  1.659529 -0.759827  \n",
       "2  0.000000  0.000000  0.000000  \n",
       "3  0.000000  0.000000  0.000000  \n",
       "4  0.000000  0.000000  0.000000  \n",
       "\n",
       "[5 rows x 49152 columns]"
      ]
     },
     "execution_count": 48,
     "metadata": {},
     "output_type": "execute_result"
    }
   ],
   "source": [
    "dx, dy, dz = x.shape                     #On redimensionne les données d'entrainement X\n",
    "\n",
    "X = x.reshape(dx, dy * dz)\n",
    "\n",
    "X = pd.DataFrame(X)\n",
    "X.head()"
   ]
  },
  {
   "cell_type": "code",
   "execution_count": 73,
   "id": "5a7c3a28",
   "metadata": {},
   "outputs": [],
   "source": [
    "X_train, X_test, y_train, y_test = train_test_split(X,y_true, train_size = 0.8)\n"
   ]
  },
  {
   "cell_type": "code",
   "execution_count": 74,
   "id": "4b6bf132",
   "metadata": {},
   "outputs": [
    {
     "data": {
      "text/html": [
       "<div>\n",
       "<style scoped>\n",
       "    .dataframe tbody tr th:only-of-type {\n",
       "        vertical-align: middle;\n",
       "    }\n",
       "\n",
       "    .dataframe tbody tr th {\n",
       "        vertical-align: top;\n",
       "    }\n",
       "\n",
       "    .dataframe thead th {\n",
       "        text-align: right;\n",
       "    }\n",
       "</style>\n",
       "<table border=\"1\" class=\"dataframe\">\n",
       "  <thead>\n",
       "    <tr style=\"text-align: right;\">\n",
       "      <th></th>\n",
       "      <th>0</th>\n",
       "      <th>1</th>\n",
       "      <th>2</th>\n",
       "      <th>3</th>\n",
       "      <th>4</th>\n",
       "      <th>5</th>\n",
       "      <th>6</th>\n",
       "      <th>7</th>\n",
       "      <th>8</th>\n",
       "      <th>9</th>\n",
       "      <th>...</th>\n",
       "      <th>49142</th>\n",
       "      <th>49143</th>\n",
       "      <th>49144</th>\n",
       "      <th>49145</th>\n",
       "      <th>49146</th>\n",
       "      <th>49147</th>\n",
       "      <th>49148</th>\n",
       "      <th>49149</th>\n",
       "      <th>49150</th>\n",
       "      <th>49151</th>\n",
       "    </tr>\n",
       "  </thead>\n",
       "  <tbody>\n",
       "    <tr>\n",
       "      <th>103</th>\n",
       "      <td>0.0</td>\n",
       "      <td>0.0</td>\n",
       "      <td>0.0</td>\n",
       "      <td>0.0</td>\n",
       "      <td>0.0</td>\n",
       "      <td>0.0</td>\n",
       "      <td>0.0</td>\n",
       "      <td>0.0</td>\n",
       "      <td>0.0</td>\n",
       "      <td>0.0</td>\n",
       "      <td>...</td>\n",
       "      <td>0.0</td>\n",
       "      <td>0.0</td>\n",
       "      <td>0.0</td>\n",
       "      <td>0.0</td>\n",
       "      <td>0.0</td>\n",
       "      <td>0.0</td>\n",
       "      <td>0.0</td>\n",
       "      <td>0.0</td>\n",
       "      <td>0.0</td>\n",
       "      <td>0.0</td>\n",
       "    </tr>\n",
       "    <tr>\n",
       "      <th>387</th>\n",
       "      <td>0.0</td>\n",
       "      <td>0.0</td>\n",
       "      <td>0.0</td>\n",
       "      <td>0.0</td>\n",
       "      <td>0.0</td>\n",
       "      <td>0.0</td>\n",
       "      <td>0.0</td>\n",
       "      <td>0.0</td>\n",
       "      <td>0.0</td>\n",
       "      <td>0.0</td>\n",
       "      <td>...</td>\n",
       "      <td>0.0</td>\n",
       "      <td>0.0</td>\n",
       "      <td>0.0</td>\n",
       "      <td>0.0</td>\n",
       "      <td>0.0</td>\n",
       "      <td>0.0</td>\n",
       "      <td>0.0</td>\n",
       "      <td>0.0</td>\n",
       "      <td>0.0</td>\n",
       "      <td>0.0</td>\n",
       "    </tr>\n",
       "    <tr>\n",
       "      <th>336</th>\n",
       "      <td>0.0</td>\n",
       "      <td>0.0</td>\n",
       "      <td>0.0</td>\n",
       "      <td>0.0</td>\n",
       "      <td>0.0</td>\n",
       "      <td>0.0</td>\n",
       "      <td>0.0</td>\n",
       "      <td>0.0</td>\n",
       "      <td>0.0</td>\n",
       "      <td>0.0</td>\n",
       "      <td>...</td>\n",
       "      <td>0.0</td>\n",
       "      <td>0.0</td>\n",
       "      <td>0.0</td>\n",
       "      <td>0.0</td>\n",
       "      <td>0.0</td>\n",
       "      <td>0.0</td>\n",
       "      <td>0.0</td>\n",
       "      <td>0.0</td>\n",
       "      <td>0.0</td>\n",
       "      <td>0.0</td>\n",
       "    </tr>\n",
       "    <tr>\n",
       "      <th>284</th>\n",
       "      <td>0.0</td>\n",
       "      <td>0.0</td>\n",
       "      <td>0.0</td>\n",
       "      <td>0.0</td>\n",
       "      <td>0.0</td>\n",
       "      <td>0.0</td>\n",
       "      <td>0.0</td>\n",
       "      <td>0.0</td>\n",
       "      <td>0.0</td>\n",
       "      <td>0.0</td>\n",
       "      <td>...</td>\n",
       "      <td>0.0</td>\n",
       "      <td>0.0</td>\n",
       "      <td>0.0</td>\n",
       "      <td>0.0</td>\n",
       "      <td>0.0</td>\n",
       "      <td>0.0</td>\n",
       "      <td>0.0</td>\n",
       "      <td>0.0</td>\n",
       "      <td>0.0</td>\n",
       "      <td>0.0</td>\n",
       "    </tr>\n",
       "    <tr>\n",
       "      <th>800</th>\n",
       "      <td>0.0</td>\n",
       "      <td>0.0</td>\n",
       "      <td>0.0</td>\n",
       "      <td>0.0</td>\n",
       "      <td>0.0</td>\n",
       "      <td>0.0</td>\n",
       "      <td>0.0</td>\n",
       "      <td>0.0</td>\n",
       "      <td>0.0</td>\n",
       "      <td>0.0</td>\n",
       "      <td>...</td>\n",
       "      <td>0.0</td>\n",
       "      <td>0.0</td>\n",
       "      <td>0.0</td>\n",
       "      <td>0.0</td>\n",
       "      <td>0.0</td>\n",
       "      <td>0.0</td>\n",
       "      <td>0.0</td>\n",
       "      <td>0.0</td>\n",
       "      <td>0.0</td>\n",
       "      <td>0.0</td>\n",
       "    </tr>\n",
       "    <tr>\n",
       "      <th>...</th>\n",
       "      <td>...</td>\n",
       "      <td>...</td>\n",
       "      <td>...</td>\n",
       "      <td>...</td>\n",
       "      <td>...</td>\n",
       "      <td>...</td>\n",
       "      <td>...</td>\n",
       "      <td>...</td>\n",
       "      <td>...</td>\n",
       "      <td>...</td>\n",
       "      <td>...</td>\n",
       "      <td>...</td>\n",
       "      <td>...</td>\n",
       "      <td>...</td>\n",
       "      <td>...</td>\n",
       "      <td>...</td>\n",
       "      <td>...</td>\n",
       "      <td>...</td>\n",
       "      <td>...</td>\n",
       "      <td>...</td>\n",
       "      <td>...</td>\n",
       "    </tr>\n",
       "    <tr>\n",
       "      <th>341</th>\n",
       "      <td>0.0</td>\n",
       "      <td>0.0</td>\n",
       "      <td>0.0</td>\n",
       "      <td>0.0</td>\n",
       "      <td>0.0</td>\n",
       "      <td>0.0</td>\n",
       "      <td>0.0</td>\n",
       "      <td>0.0</td>\n",
       "      <td>0.0</td>\n",
       "      <td>0.0</td>\n",
       "      <td>...</td>\n",
       "      <td>0.0</td>\n",
       "      <td>0.0</td>\n",
       "      <td>0.0</td>\n",
       "      <td>0.0</td>\n",
       "      <td>0.0</td>\n",
       "      <td>0.0</td>\n",
       "      <td>0.0</td>\n",
       "      <td>0.0</td>\n",
       "      <td>0.0</td>\n",
       "      <td>0.0</td>\n",
       "    </tr>\n",
       "    <tr>\n",
       "      <th>290</th>\n",
       "      <td>0.0</td>\n",
       "      <td>0.0</td>\n",
       "      <td>0.0</td>\n",
       "      <td>0.0</td>\n",
       "      <td>0.0</td>\n",
       "      <td>0.0</td>\n",
       "      <td>0.0</td>\n",
       "      <td>0.0</td>\n",
       "      <td>0.0</td>\n",
       "      <td>0.0</td>\n",
       "      <td>...</td>\n",
       "      <td>0.0</td>\n",
       "      <td>0.0</td>\n",
       "      <td>0.0</td>\n",
       "      <td>0.0</td>\n",
       "      <td>0.0</td>\n",
       "      <td>0.0</td>\n",
       "      <td>0.0</td>\n",
       "      <td>0.0</td>\n",
       "      <td>0.0</td>\n",
       "      <td>0.0</td>\n",
       "    </tr>\n",
       "    <tr>\n",
       "      <th>742</th>\n",
       "      <td>0.0</td>\n",
       "      <td>0.0</td>\n",
       "      <td>0.0</td>\n",
       "      <td>0.0</td>\n",
       "      <td>0.0</td>\n",
       "      <td>0.0</td>\n",
       "      <td>0.0</td>\n",
       "      <td>0.0</td>\n",
       "      <td>0.0</td>\n",
       "      <td>0.0</td>\n",
       "      <td>...</td>\n",
       "      <td>0.0</td>\n",
       "      <td>0.0</td>\n",
       "      <td>0.0</td>\n",
       "      <td>0.0</td>\n",
       "      <td>0.0</td>\n",
       "      <td>0.0</td>\n",
       "      <td>0.0</td>\n",
       "      <td>0.0</td>\n",
       "      <td>0.0</td>\n",
       "      <td>0.0</td>\n",
       "    </tr>\n",
       "    <tr>\n",
       "      <th>436</th>\n",
       "      <td>0.0</td>\n",
       "      <td>0.0</td>\n",
       "      <td>0.0</td>\n",
       "      <td>0.0</td>\n",
       "      <td>0.0</td>\n",
       "      <td>0.0</td>\n",
       "      <td>0.0</td>\n",
       "      <td>0.0</td>\n",
       "      <td>0.0</td>\n",
       "      <td>0.0</td>\n",
       "      <td>...</td>\n",
       "      <td>0.0</td>\n",
       "      <td>0.0</td>\n",
       "      <td>0.0</td>\n",
       "      <td>0.0</td>\n",
       "      <td>0.0</td>\n",
       "      <td>0.0</td>\n",
       "      <td>0.0</td>\n",
       "      <td>0.0</td>\n",
       "      <td>0.0</td>\n",
       "      <td>0.0</td>\n",
       "    </tr>\n",
       "    <tr>\n",
       "      <th>243</th>\n",
       "      <td>0.0</td>\n",
       "      <td>0.0</td>\n",
       "      <td>0.0</td>\n",
       "      <td>0.0</td>\n",
       "      <td>0.0</td>\n",
       "      <td>0.0</td>\n",
       "      <td>0.0</td>\n",
       "      <td>0.0</td>\n",
       "      <td>0.0</td>\n",
       "      <td>0.0</td>\n",
       "      <td>...</td>\n",
       "      <td>0.0</td>\n",
       "      <td>0.0</td>\n",
       "      <td>0.0</td>\n",
       "      <td>0.0</td>\n",
       "      <td>0.0</td>\n",
       "      <td>0.0</td>\n",
       "      <td>0.0</td>\n",
       "      <td>0.0</td>\n",
       "      <td>0.0</td>\n",
       "      <td>0.0</td>\n",
       "    </tr>\n",
       "  </tbody>\n",
       "</table>\n",
       "<p>661 rows × 49152 columns</p>\n",
       "</div>"
      ],
      "text/plain": [
       "     0      1      2      3      4      5      6      7      8      9      \\\n",
       "103    0.0    0.0    0.0    0.0    0.0    0.0    0.0    0.0    0.0    0.0   \n",
       "387    0.0    0.0    0.0    0.0    0.0    0.0    0.0    0.0    0.0    0.0   \n",
       "336    0.0    0.0    0.0    0.0    0.0    0.0    0.0    0.0    0.0    0.0   \n",
       "284    0.0    0.0    0.0    0.0    0.0    0.0    0.0    0.0    0.0    0.0   \n",
       "800    0.0    0.0    0.0    0.0    0.0    0.0    0.0    0.0    0.0    0.0   \n",
       "..     ...    ...    ...    ...    ...    ...    ...    ...    ...    ...   \n",
       "341    0.0    0.0    0.0    0.0    0.0    0.0    0.0    0.0    0.0    0.0   \n",
       "290    0.0    0.0    0.0    0.0    0.0    0.0    0.0    0.0    0.0    0.0   \n",
       "742    0.0    0.0    0.0    0.0    0.0    0.0    0.0    0.0    0.0    0.0   \n",
       "436    0.0    0.0    0.0    0.0    0.0    0.0    0.0    0.0    0.0    0.0   \n",
       "243    0.0    0.0    0.0    0.0    0.0    0.0    0.0    0.0    0.0    0.0   \n",
       "\n",
       "     ...  49142  49143  49144  49145  49146  49147  49148  49149  49150  49151  \n",
       "103  ...    0.0    0.0    0.0    0.0    0.0    0.0    0.0    0.0    0.0    0.0  \n",
       "387  ...    0.0    0.0    0.0    0.0    0.0    0.0    0.0    0.0    0.0    0.0  \n",
       "336  ...    0.0    0.0    0.0    0.0    0.0    0.0    0.0    0.0    0.0    0.0  \n",
       "284  ...    0.0    0.0    0.0    0.0    0.0    0.0    0.0    0.0    0.0    0.0  \n",
       "800  ...    0.0    0.0    0.0    0.0    0.0    0.0    0.0    0.0    0.0    0.0  \n",
       "..   ...    ...    ...    ...    ...    ...    ...    ...    ...    ...    ...  \n",
       "341  ...    0.0    0.0    0.0    0.0    0.0    0.0    0.0    0.0    0.0    0.0  \n",
       "290  ...    0.0    0.0    0.0    0.0    0.0    0.0    0.0    0.0    0.0    0.0  \n",
       "742  ...    0.0    0.0    0.0    0.0    0.0    0.0    0.0    0.0    0.0    0.0  \n",
       "436  ...    0.0    0.0    0.0    0.0    0.0    0.0    0.0    0.0    0.0    0.0  \n",
       "243  ...    0.0    0.0    0.0    0.0    0.0    0.0    0.0    0.0    0.0    0.0  \n",
       "\n",
       "[661 rows x 49152 columns]"
      ]
     },
     "execution_count": 74,
     "metadata": {},
     "output_type": "execute_result"
    }
   ],
   "source": [
    "X_train"
   ]
  },
  {
   "cell_type": "code",
   "execution_count": 75,
   "id": "117c2773",
   "metadata": {},
   "outputs": [],
   "source": [
    "from sklearn.preprocessing import StandardScaler  \n",
    "# On normalise les données \n",
    "scaler = StandardScaler()  \n",
    "scaler.fit(X_train)  \n",
    "Xr_train = scaler.transform(X_train)  \n",
    "# Meme transformation sur le test\n",
    "Xr_test = scaler.transform(X_test)\n"
   ]
  },
  {
   "cell_type": "markdown",
   "id": "39598fee",
   "metadata": {},
   "source": [
    "## Régression logistique"
   ]
  },
  {
   "cell_type": "code",
   "execution_count": 76,
   "id": "b295cc2b",
   "metadata": {},
   "outputs": [
    {
     "name": "stdout",
     "output_type": "stream",
     "text": [
      "[[0. 0. 0. ... 0. 0. 0.]\n",
      " [0. 0. 0. ... 0. 0. 0.]\n",
      " [0. 0. 0. ... 0. 0. 0.]]\n",
      "Lasso conserve 202 variables et en supprime 48950\n"
     ]
    },
    {
     "data": {
      "text/plain": [
       "0        0.0\n",
       "1        0.0\n",
       "2        0.0\n",
       "3        0.0\n",
       "4        0.0\n",
       "        ... \n",
       "49147    0.0\n",
       "49148    0.0\n",
       "49149    0.0\n",
       "49150    0.0\n",
       "49151    0.0\n",
       "Length: 49152, dtype: float64"
      ]
     },
     "execution_count": 76,
     "metadata": {},
     "output_type": "execute_result"
    }
   ],
   "source": [
    "C=0.2\n",
    "Classifier1 = LogisticRegression(penalty=\"l1\",C=C,\n",
    "                              solver=\"liblinear\")\n",
    "\n",
    "logitCoef=Classifier1.fit(Xr_train,y_train).coef_\n",
    "print(logitCoef)\n",
    "\n",
    "coef = pd.Series(logitCoef[0], index = X_train.columns)\n",
    "print(\"Lasso conserve \" + str(sum(coef != 0)) + \n",
    "      \" variables et en supprime \" +  str(sum(coef == 0)))\n",
    "\n",
    "coef\n"
   ]
  },
  {
   "cell_type": "code",
   "execution_count": 77,
   "id": "d7f5953f",
   "metadata": {},
   "outputs": [
    {
     "name": "stdout",
     "output_type": "stream",
     "text": [
      "[[0. 0. 0. ... 0. 0. 0.]\n",
      " [0. 0. 0. ... 0. 0. 0.]\n",
      " [0. 0. 0. ... 0. 0. 0.]]\n",
      "Lasso conserve 874 variables et en supprime 48278\n"
     ]
    },
    {
     "data": {
      "text/plain": [
       "0        0.0\n",
       "1        0.0\n",
       "2        0.0\n",
       "3        0.0\n",
       "4        0.0\n",
       "        ... \n",
       "49147    0.0\n",
       "49148    0.0\n",
       "49149    0.0\n",
       "49150    0.0\n",
       "49151    0.0\n",
       "Length: 49152, dtype: float64"
      ]
     },
     "execution_count": 77,
     "metadata": {},
     "output_type": "execute_result"
    }
   ],
   "source": [
    "C=5\n",
    "Classifier1 = LogisticRegression(penalty=\"l1\",C=C,\n",
    "                              solver=\"liblinear\")\n",
    "\n",
    "logitCoef=Classifier1.fit(Xr_train,y_train).coef_\n",
    "print(logitCoef)\n",
    "\n",
    "coef = pd.Series(logitCoef[0], index = X_train.columns)\n",
    "print(\"Lasso conserve \" + str(sum(coef != 0)) + \n",
    "      \" variables et en supprime \" +  str(sum(coef == 0)))\n",
    "\n",
    "coef"
   ]
  },
  {
   "cell_type": "code",
   "execution_count": 78,
   "id": "48bc94d4",
   "metadata": {},
   "outputs": [
    {
     "name": "stdout",
     "output_type": "stream",
     "text": [
      "[[0. 0. 0. ... 0. 0. 0.]\n",
      " [0. 0. 0. ... 0. 0. 0.]\n",
      " [0. 0. 0. ... 0. 0. 0.]]\n",
      "Lasso conserve 3012 variables et en supprime 46140\n"
     ]
    },
    {
     "data": {
      "text/plain": [
       "0        0.0\n",
       "1        0.0\n",
       "2        0.0\n",
       "3        0.0\n",
       "4        0.0\n",
       "        ... \n",
       "49147    0.0\n",
       "49148    0.0\n",
       "49149    0.0\n",
       "49150    0.0\n",
       "49151    0.0\n",
       "Length: 49152, dtype: float64"
      ]
     },
     "execution_count": 78,
     "metadata": {},
     "output_type": "execute_result"
    }
   ],
   "source": [
    "C=100\n",
    "Classifier1 = LogisticRegression(penalty=\"l1\",C=C,\n",
    "                              solver=\"liblinear\")\n",
    "\n",
    "logitCoef=Classifier1.fit(Xr_train,y_train).coef_\n",
    "print(logitCoef)\n",
    "\n",
    "coef = pd.Series(logitCoef[0], index = X_train.columns)\n",
    "print(\"Lasso conserve \" + str(sum(coef != 0)) + \n",
    "      \" variables et en supprime \" +  str(sum(coef == 0)))\n",
    "\n",
    "coef"
   ]
  },
  {
   "cell_type": "code",
   "execution_count": 80,
   "id": "3def1f01",
   "metadata": {},
   "outputs": [
    {
     "name": "stdout",
     "output_type": "stream",
     "text": [
      "Meilleur score = 0.192139, Meilleur paramètre = {'C': 0.2}\n"
     ]
    }
   ],
   "source": [
    "from sklearn.model_selection import GridSearchCV\n",
    "# Optimisation du paramètre de pénalisation\n",
    "# grille de valeurs\n",
    "param=[{\"C\":[0.2, 1,10,30,50,100]}]\n",
    "logit = GridSearchCV(LogisticRegression(penalty=\"l1\", solver = \"liblinear\"), param,cv=5,n_jobs=-1)\n",
    "logitOpt=logit.fit(Xr_train, y_train)\n",
    "# paramètre optimal\n",
    "# paramètre optimal\n",
    "\n",
    "print(\"Meilleur score = %f, Meilleur paramètre = %s\" % (1.-logitOpt.best_score_,logitOpt.best_params_))"
   ]
  },
  {
   "cell_type": "code",
   "execution_count": 84,
   "id": "e57a978f",
   "metadata": {},
   "outputs": [
    {
     "name": "stderr",
     "output_type": "stream",
     "text": [
      "C:\\Users\\danih\\anaconda3\\lib\\site-packages\\sklearn\\linear_model\\_logistic.py:1355: UserWarning: 'n_jobs' > 1 does not have any effect when 'solver' is set to 'liblinear'. Got 'n_jobs' = 8.\n",
      "  warnings.warn(\"'n_jobs' > 1 does not have any effect when\"\n"
     ]
    }
   ],
   "source": [
    "C=logitOpt.best_params_[\"C\"]                #best logistic regression model                             \n",
    "typePenal=\"l1\"\n",
    "nproc=-1\n",
    "logit = LogisticRegression(penalty=typePenal, dual=False, tol=0.0001, \n",
    "            C=C, fit_intercept=True, intercept_scaling=1, \n",
    "            class_weight=None, random_state=None, solver='liblinear', \n",
    "            max_iter=100, multi_class='ovr', verbose=0, \n",
    "            warm_start=False, n_jobs=nproc)\n",
    "logitFit=logit.fit(Xr_train, y_train)\n",
    "y_logit_pred = logitFit.predict(Xr_test)"
   ]
  },
  {
   "cell_type": "code",
   "execution_count": 85,
   "id": "809bd1fc",
   "metadata": {},
   "outputs": [
    {
     "name": "stdout",
     "output_type": "stream",
     "text": [
      "F1 score de la regression logistique= 0.7890130378499697\n"
     ]
    },
    {
     "data": {
      "text/plain": [
       "array([[138,   4,   0],\n",
       "       [ 21,   1,   0],\n",
       "       [  2,   0,   0]], dtype=int64)"
      ]
     },
     "execution_count": 85,
     "metadata": {},
     "output_type": "execute_result"
    }
   ],
   "source": [
    "#On mesure le score sur les données test\n",
    "\n",
    "\n",
    "print('F1 score de la regression logistique=', f1_score(y_test,y_logit_pred,average='weighted'))\n",
    "confusion_matrix(y_test,y_logit_pred)\n"
   ]
  },
  {
   "cell_type": "markdown",
   "id": "f309c6ed",
   "metadata": {},
   "source": [
    "Il semblerait que ce modèle ne parvienne pas à correctement identifier les patients ayant des anomalies, il prédit 97% des patients comme ayant aucune anomalie."
   ]
  },
  {
   "cell_type": "markdown",
   "id": "05490188",
   "metadata": {},
   "source": [
    "## SupportVectorClassifier"
   ]
  },
  {
   "cell_type": "code",
   "execution_count": 102,
   "id": "aa170d0e",
   "metadata": {},
   "outputs": [
    {
     "name": "stderr",
     "output_type": "stream",
     "text": [
      "C:\\Users\\danih\\anaconda3\\lib\\site-packages\\sklearn\\svm\\_base.py:985: ConvergenceWarning: Liblinear failed to converge, increase the number of iterations.\n",
      "  warnings.warn(\"Liblinear failed to converge, increase \"\n"
     ]
    },
    {
     "data": {
      "text/plain": [
       "LinearSVC(random_state=0)"
      ]
     },
     "execution_count": 102,
     "metadata": {},
     "output_type": "execute_result"
    }
   ],
   "source": [
    "svc = LinearSVC(random_state = 0)\n",
    "svc.fit(Xr_train,y_train)"
   ]
  },
  {
   "cell_type": "code",
   "execution_count": 103,
   "id": "2f4b1f11",
   "metadata": {},
   "outputs": [],
   "source": [
    "y_svc_pred = svc.predict(Xr_test)"
   ]
  },
  {
   "cell_type": "code",
   "execution_count": 106,
   "id": "aa900341",
   "metadata": {},
   "outputs": [
    {
     "name": "stdout",
     "output_type": "stream",
     "text": [
      "F1 score du linearSVC= 0.7424134948249907\n"
     ]
    },
    {
     "data": {
      "text/plain": [
       "array([[118,  23,   1],\n",
       "       [ 17,   3,   2],\n",
       "       [  1,   1,   0]], dtype=int64)"
      ]
     },
     "execution_count": 106,
     "metadata": {},
     "output_type": "execute_result"
    }
   ],
   "source": [
    "#On mesure le score sur les données test\n",
    "\n",
    "print('F1 score du linearSVC=', f1_score(y_test,y_svc_pred,average='weighted'))\n",
    "confusion_matrix(y_test,y_svc_pred)"
   ]
  },
  {
   "cell_type": "markdown",
   "id": "b538fb9c",
   "metadata": {},
   "source": [
    "Ici aussi, le modèle semble avoir du mal à bien prédire les anomalies."
   ]
  },
  {
   "cell_type": "markdown",
   "id": "3f1fac8a",
   "metadata": {},
   "source": [
    "## RandomForest"
   ]
  },
  {
   "cell_type": "code",
   "execution_count": 107,
   "id": "96fc7f5e",
   "metadata": {},
   "outputs": [
    {
     "data": {
      "text/plain": [
       "RandomForestClassifier(random_state=0)"
      ]
     },
     "execution_count": 107,
     "metadata": {},
     "output_type": "execute_result"
    }
   ],
   "source": [
    "RF = RandomForestClassifier(random_state = 0)\n",
    "RF.fit(Xr_train,y_train)"
   ]
  },
  {
   "cell_type": "code",
   "execution_count": 108,
   "id": "8c2cfd18",
   "metadata": {},
   "outputs": [],
   "source": [
    "y_RF_pred = RF.predict(Xr_test)"
   ]
  },
  {
   "cell_type": "code",
   "execution_count": 109,
   "id": "12be686e",
   "metadata": {},
   "outputs": [
    {
     "name": "stdout",
     "output_type": "stream",
     "text": [
      "F1 score du RFC= 0.8015168872210151\n"
     ]
    },
    {
     "data": {
      "text/plain": [
       "array([[141,   1,   0],\n",
       "       [ 21,   1,   0],\n",
       "       [  1,   1,   0]], dtype=int64)"
      ]
     },
     "execution_count": 109,
     "metadata": {},
     "output_type": "execute_result"
    }
   ],
   "source": [
    "#On mesure le score sur les données test\n",
    "\n",
    "print('F1 score du RFC=', f1_score(y_test,y_RF_pred,average='weighted'))\n",
    "confusion_matrix(y_test,y_RF_pred)"
   ]
  },
  {
   "cell_type": "markdown",
   "id": "2376b58b",
   "metadata": {},
   "source": [
    "Encore une fois le modèle ne prédit presque jamais qu'un patient a une anomalie.\n"
   ]
  },
  {
   "cell_type": "markdown",
   "id": "db889156",
   "metadata": {},
   "source": [
    "**Conclusion :** Il semblerait que les classifieurs classiques pour l'apprentissage supervisé ne soient pas performants pour prédire quand un patient est atteint d'une anomalie.\n",
    "Peut-être faut-il jouer sur les paramètres pour obtenir de meilleures prédictions?\n",
    "Peut-être qu'on peut effectuer une ACP pour éliminer les variables inutiles ? Peut-être qu'un clustering sera plus efficace ?"
   ]
  },
  {
   "cell_type": "markdown",
   "id": "35e1a960",
   "metadata": {},
   "source": [
    "# ACP"
   ]
  },
  {
   "cell_type": "code",
   "execution_count": 113,
   "id": "a86874cd",
   "metadata": {},
   "outputs": [
    {
     "data": {
      "text/plain": [
       "<AxesSubplot:>"
      ]
     },
     "execution_count": 113,
     "metadata": {},
     "output_type": "execute_result"
    },
    {
     "data": {
      "image/png": "[encoded data removed]",
      "text/plain": [
       "<Figure size 432x288 with 2 Axes>"
      ]
     },
     "metadata": {
      "needs_background": "light"
     },
     "output_type": "display_data"
    }
   ],
   "source": [
    "import seaborn as sns\n",
    "\n",
    "sns.heatmap(df_goldStandard.corr())   #Corrélation entre les anomalies"
   ]
  },
  {
   "cell_type": "markdown",
   "id": "e3dd9b93",
   "metadata": {},
   "source": [
    "Il semblerait que les anomalies soient relativement peu corrélées entres elles"
   ]
  },
  {
   "cell_type": "code",
   "execution_count": 129,
   "id": "8a26e03a",
   "metadata": {},
   "outputs": [],
   "source": [
    "from sklearn.decomposition import PCA\n",
    "\n"
   ]
  },
  {
   "cell_type": "code",
   "execution_count": 135,
   "id": "bf5cf84a",
   "metadata": {},
   "outputs": [
    {
     "data": {
      "text/plain": [
       "[<matplotlib.lines.Line2D at 0x13a5f15c7c0>]"
      ]
     },
     "execution_count": 135,
     "metadata": {},
     "output_type": "execute_result"
    },
    {
     "data": {
      "image/png": "[encoded data removed]",
      "text/plain": [
       "<Figure size 432x288 with 1 Axes>"
      ]
     },
     "metadata": {
      "needs_background": "light"
     },
     "output_type": "display_data"
    }
   ],
   "source": [
    "model = PCA()\n",
    "X_reduced= model.fit_transform(X)\n",
    "plt.plot(np.cumsum(model.explained_variance_ratio_))"
   ]
  },
  {
   "cell_type": "code",
   "execution_count": 136,
   "id": "b4791d15",
   "metadata": {},
   "outputs": [
    {
     "data": {
      "text/plain": [
       "(827, 827)"
      ]
     },
     "execution_count": 136,
     "metadata": {},
     "output_type": "execute_result"
    }
   ],
   "source": [
    "X_reduced.shape"
   ]
  },
  {
   "cell_type": "code",
   "execution_count": 137,
   "id": "c024b93d",
   "metadata": {},
   "outputs": [
    {
     "data": {
      "text/plain": [
       "425"
      ]
     },
     "execution_count": 137,
     "metadata": {},
     "output_type": "execute_result"
    }
   ],
   "source": [
    "np.argmax(np.cumsum(model.explained_variance_ratio_) > 0.99)   "
   ]
  },
  {
   "cell_type": "markdown",
   "id": "0e3849b9",
   "metadata": {},
   "source": [
    "On garde 99% de la variance avec seulement 425 features"
   ]
  },
  {
   "cell_type": "code",
   "execution_count": 139,
   "id": "56f28c5c",
   "metadata": {},
   "outputs": [
    {
     "data": {
      "text/html": [
       "<div>\n",
       "<style scoped>\n",
       "    .dataframe tbody tr th:only-of-type {\n",
       "        vertical-align: middle;\n",
       "    }\n",
       "\n",
       "    .dataframe tbody tr th {\n",
       "        vertical-align: top;\n",
       "    }\n",
       "\n",
       "    .dataframe thead th {\n",
       "        text-align: right;\n",
       "    }\n",
       "</style>\n",
       "<table border=\"1\" class=\"dataframe\">\n",
       "  <thead>\n",
       "    <tr style=\"text-align: right;\">\n",
       "      <th></th>\n",
       "      <th>0</th>\n",
       "      <th>1</th>\n",
       "      <th>2</th>\n",
       "      <th>3</th>\n",
       "      <th>4</th>\n",
       "      <th>5</th>\n",
       "      <th>6</th>\n",
       "      <th>7</th>\n",
       "      <th>8</th>\n",
       "      <th>9</th>\n",
       "      <th>...</th>\n",
       "      <th>817</th>\n",
       "      <th>818</th>\n",
       "      <th>819</th>\n",
       "      <th>820</th>\n",
       "      <th>821</th>\n",
       "      <th>822</th>\n",
       "      <th>823</th>\n",
       "      <th>824</th>\n",
       "      <th>825</th>\n",
       "      <th>826</th>\n",
       "    </tr>\n",
       "  </thead>\n",
       "  <tbody>\n",
       "    <tr>\n",
       "      <th>0</th>\n",
       "      <td>-8.302910</td>\n",
       "      <td>13.115261</td>\n",
       "      <td>3.070312</td>\n",
       "      <td>1.609468</td>\n",
       "      <td>-1.528234</td>\n",
       "      <td>-1.144516</td>\n",
       "      <td>0.086531</td>\n",
       "      <td>-0.683829</td>\n",
       "      <td>1.335477</td>\n",
       "      <td>-2.414057</td>\n",
       "      <td>...</td>\n",
       "      <td>-0.064021</td>\n",
       "      <td>-0.109689</td>\n",
       "      <td>-0.046761</td>\n",
       "      <td>0.516789</td>\n",
       "      <td>0.228357</td>\n",
       "      <td>0.111523</td>\n",
       "      <td>0.136346</td>\n",
       "      <td>-0.259369</td>\n",
       "      <td>0.000940</td>\n",
       "      <td>1.332275e-14</td>\n",
       "    </tr>\n",
       "    <tr>\n",
       "      <th>1</th>\n",
       "      <td>-24.292273</td>\n",
       "      <td>162.766072</td>\n",
       "      <td>-37.109720</td>\n",
       "      <td>87.372886</td>\n",
       "      <td>-4.320288</td>\n",
       "      <td>-118.867879</td>\n",
       "      <td>-69.213111</td>\n",
       "      <td>10.222081</td>\n",
       "      <td>10.224597</td>\n",
       "      <td>8.196486</td>\n",
       "      <td>...</td>\n",
       "      <td>-0.046172</td>\n",
       "      <td>-0.138531</td>\n",
       "      <td>0.031055</td>\n",
       "      <td>0.011751</td>\n",
       "      <td>0.025131</td>\n",
       "      <td>0.229335</td>\n",
       "      <td>0.132184</td>\n",
       "      <td>-0.005385</td>\n",
       "      <td>-0.000115</td>\n",
       "      <td>1.332275e-14</td>\n",
       "    </tr>\n",
       "    <tr>\n",
       "      <th>2</th>\n",
       "      <td>-8.162659</td>\n",
       "      <td>12.885106</td>\n",
       "      <td>2.472807</td>\n",
       "      <td>0.899353</td>\n",
       "      <td>-0.493598</td>\n",
       "      <td>-0.905827</td>\n",
       "      <td>-0.441227</td>\n",
       "      <td>-2.047665</td>\n",
       "      <td>-1.266835</td>\n",
       "      <td>0.153921</td>\n",
       "      <td>...</td>\n",
       "      <td>0.791928</td>\n",
       "      <td>-0.572866</td>\n",
       "      <td>-0.326748</td>\n",
       "      <td>-0.742220</td>\n",
       "      <td>0.553856</td>\n",
       "      <td>1.051031</td>\n",
       "      <td>0.228749</td>\n",
       "      <td>0.290152</td>\n",
       "      <td>-0.002395</td>\n",
       "      <td>1.332275e-14</td>\n",
       "    </tr>\n",
       "    <tr>\n",
       "      <th>3</th>\n",
       "      <td>-8.436321</td>\n",
       "      <td>12.621942</td>\n",
       "      <td>3.044800</td>\n",
       "      <td>1.420967</td>\n",
       "      <td>-1.364358</td>\n",
       "      <td>-0.969433</td>\n",
       "      <td>-0.460491</td>\n",
       "      <td>-2.065014</td>\n",
       "      <td>-0.168198</td>\n",
       "      <td>-1.568945</td>\n",
       "      <td>...</td>\n",
       "      <td>-1.151660</td>\n",
       "      <td>0.057781</td>\n",
       "      <td>0.285725</td>\n",
       "      <td>0.559163</td>\n",
       "      <td>0.355292</td>\n",
       "      <td>0.068300</td>\n",
       "      <td>0.331360</td>\n",
       "      <td>-0.405980</td>\n",
       "      <td>0.001709</td>\n",
       "      <td>1.332275e-14</td>\n",
       "    </tr>\n",
       "    <tr>\n",
       "      <th>4</th>\n",
       "      <td>-8.319026</td>\n",
       "      <td>13.231013</td>\n",
       "      <td>2.433977</td>\n",
       "      <td>1.000133</td>\n",
       "      <td>-1.201106</td>\n",
       "      <td>-1.223011</td>\n",
       "      <td>-0.204855</td>\n",
       "      <td>-1.593515</td>\n",
       "      <td>-0.667685</td>\n",
       "      <td>-0.410360</td>\n",
       "      <td>...</td>\n",
       "      <td>0.577982</td>\n",
       "      <td>0.704623</td>\n",
       "      <td>0.307943</td>\n",
       "      <td>0.606673</td>\n",
       "      <td>-0.590142</td>\n",
       "      <td>-0.428777</td>\n",
       "      <td>0.014704</td>\n",
       "      <td>0.075435</td>\n",
       "      <td>-0.004936</td>\n",
       "      <td>1.332275e-14</td>\n",
       "    </tr>\n",
       "    <tr>\n",
       "      <th>...</th>\n",
       "      <td>...</td>\n",
       "      <td>...</td>\n",
       "      <td>...</td>\n",
       "      <td>...</td>\n",
       "      <td>...</td>\n",
       "      <td>...</td>\n",
       "      <td>...</td>\n",
       "      <td>...</td>\n",
       "      <td>...</td>\n",
       "      <td>...</td>\n",
       "      <td>...</td>\n",
       "      <td>...</td>\n",
       "      <td>...</td>\n",
       "      <td>...</td>\n",
       "      <td>...</td>\n",
       "      <td>...</td>\n",
       "      <td>...</td>\n",
       "      <td>...</td>\n",
       "      <td>...</td>\n",
       "      <td>...</td>\n",
       "      <td>...</td>\n",
       "    </tr>\n",
       "    <tr>\n",
       "      <th>822</th>\n",
       "      <td>-8.375343</td>\n",
       "      <td>13.601525</td>\n",
       "      <td>2.427110</td>\n",
       "      <td>1.246592</td>\n",
       "      <td>-1.504467</td>\n",
       "      <td>-0.377082</td>\n",
       "      <td>-0.398361</td>\n",
       "      <td>0.044343</td>\n",
       "      <td>1.990470</td>\n",
       "      <td>0.416474</td>\n",
       "      <td>...</td>\n",
       "      <td>0.793367</td>\n",
       "      <td>-0.321626</td>\n",
       "      <td>-0.629262</td>\n",
       "      <td>0.798691</td>\n",
       "      <td>-0.209335</td>\n",
       "      <td>1.124360</td>\n",
       "      <td>-0.048739</td>\n",
       "      <td>-0.595422</td>\n",
       "      <td>-0.004466</td>\n",
       "      <td>1.332275e-14</td>\n",
       "    </tr>\n",
       "    <tr>\n",
       "      <th>823</th>\n",
       "      <td>-7.816766</td>\n",
       "      <td>12.762692</td>\n",
       "      <td>2.235708</td>\n",
       "      <td>0.911167</td>\n",
       "      <td>-1.028325</td>\n",
       "      <td>-0.958366</td>\n",
       "      <td>-0.116489</td>\n",
       "      <td>-0.246163</td>\n",
       "      <td>0.038225</td>\n",
       "      <td>1.044430</td>\n",
       "      <td>...</td>\n",
       "      <td>0.046719</td>\n",
       "      <td>0.029748</td>\n",
       "      <td>-0.244456</td>\n",
       "      <td>0.073355</td>\n",
       "      <td>-0.187164</td>\n",
       "      <td>0.063603</td>\n",
       "      <td>-0.026707</td>\n",
       "      <td>0.145744</td>\n",
       "      <td>-0.000592</td>\n",
       "      <td>1.332275e-14</td>\n",
       "    </tr>\n",
       "    <tr>\n",
       "      <th>824</th>\n",
       "      <td>-7.757031</td>\n",
       "      <td>13.473473</td>\n",
       "      <td>2.072325</td>\n",
       "      <td>-0.044633</td>\n",
       "      <td>-1.734136</td>\n",
       "      <td>-1.330659</td>\n",
       "      <td>-0.143922</td>\n",
       "      <td>-1.720592</td>\n",
       "      <td>-1.114519</td>\n",
       "      <td>-0.401865</td>\n",
       "      <td>...</td>\n",
       "      <td>0.061034</td>\n",
       "      <td>0.038604</td>\n",
       "      <td>-0.099884</td>\n",
       "      <td>0.054667</td>\n",
       "      <td>-0.002805</td>\n",
       "      <td>-0.060626</td>\n",
       "      <td>0.126126</td>\n",
       "      <td>0.318818</td>\n",
       "      <td>-0.003586</td>\n",
       "      <td>1.332275e-14</td>\n",
       "    </tr>\n",
       "    <tr>\n",
       "      <th>825</th>\n",
       "      <td>-8.329909</td>\n",
       "      <td>13.337693</td>\n",
       "      <td>2.535648</td>\n",
       "      <td>0.801219</td>\n",
       "      <td>-1.123718</td>\n",
       "      <td>-1.119133</td>\n",
       "      <td>-0.285502</td>\n",
       "      <td>-1.809556</td>\n",
       "      <td>0.015952</td>\n",
       "      <td>0.069577</td>\n",
       "      <td>...</td>\n",
       "      <td>-0.216825</td>\n",
       "      <td>-0.627946</td>\n",
       "      <td>0.150703</td>\n",
       "      <td>0.196883</td>\n",
       "      <td>0.162514</td>\n",
       "      <td>0.338568</td>\n",
       "      <td>-0.370584</td>\n",
       "      <td>-1.067648</td>\n",
       "      <td>0.001292</td>\n",
       "      <td>1.332275e-14</td>\n",
       "    </tr>\n",
       "    <tr>\n",
       "      <th>826</th>\n",
       "      <td>-8.693868</td>\n",
       "      <td>13.667386</td>\n",
       "      <td>2.510956</td>\n",
       "      <td>1.101244</td>\n",
       "      <td>-1.271608</td>\n",
       "      <td>-1.286158</td>\n",
       "      <td>-0.774485</td>\n",
       "      <td>-2.293560</td>\n",
       "      <td>-1.240983</td>\n",
       "      <td>-0.879552</td>\n",
       "      <td>...</td>\n",
       "      <td>0.206289</td>\n",
       "      <td>-0.237321</td>\n",
       "      <td>0.093226</td>\n",
       "      <td>-0.196630</td>\n",
       "      <td>0.309669</td>\n",
       "      <td>-0.125919</td>\n",
       "      <td>-0.132612</td>\n",
       "      <td>-0.111693</td>\n",
       "      <td>-0.001132</td>\n",
       "      <td>1.332275e-14</td>\n",
       "    </tr>\n",
       "  </tbody>\n",
       "</table>\n",
       "<p>827 rows × 827 columns</p>\n",
       "</div>"
      ],
      "text/plain": [
       "           0           1          2          3         4           5    \\\n",
       "0    -8.302910   13.115261   3.070312   1.609468 -1.528234   -1.144516   \n",
       "1   -24.292273  162.766072 -37.109720  87.372886 -4.320288 -118.867879   \n",
       "2    -8.162659   12.885106   2.472807   0.899353 -0.493598   -0.905827   \n",
       "3    -8.436321   12.621942   3.044800   1.420967 -1.364358   -0.969433   \n",
       "4    -8.319026   13.231013   2.433977   1.000133 -1.201106   -1.223011   \n",
       "..         ...         ...        ...        ...       ...         ...   \n",
       "822  -8.375343   13.601525   2.427110   1.246592 -1.504467   -0.377082   \n",
       "823  -7.816766   12.762692   2.235708   0.911167 -1.028325   -0.958366   \n",
       "824  -7.757031   13.473473   2.072325  -0.044633 -1.734136   -1.330659   \n",
       "825  -8.329909   13.337693   2.535648   0.801219 -1.123718   -1.119133   \n",
       "826  -8.693868   13.667386   2.510956   1.101244 -1.271608   -1.286158   \n",
       "\n",
       "           6          7          8         9    ...       817       818  \\\n",
       "0     0.086531  -0.683829   1.335477 -2.414057  ... -0.064021 -0.109689   \n",
       "1   -69.213111  10.222081  10.224597  8.196486  ... -0.046172 -0.138531   \n",
       "2    -0.441227  -2.047665  -1.266835  0.153921  ...  0.791928 -0.572866   \n",
       "3    -0.460491  -2.065014  -0.168198 -1.568945  ... -1.151660  0.057781   \n",
       "4    -0.204855  -1.593515  -0.667685 -0.410360  ...  0.577982  0.704623   \n",
       "..         ...        ...        ...       ...  ...       ...       ...   \n",
       "822  -0.398361   0.044343   1.990470  0.416474  ...  0.793367 -0.321626   \n",
       "823  -0.116489  -0.246163   0.038225  1.044430  ...  0.046719  0.029748   \n",
       "824  -0.143922  -1.720592  -1.114519 -0.401865  ...  0.061034  0.038604   \n",
       "825  -0.285502  -1.809556   0.015952  0.069577  ... -0.216825 -0.627946   \n",
       "826  -0.774485  -2.293560  -1.240983 -0.879552  ...  0.206289 -0.237321   \n",
       "\n",
       "          819       820       821       822       823       824       825  \\\n",
       "0   -0.046761  0.516789  0.228357  0.111523  0.136346 -0.259369  0.000940   \n",
       "1    0.031055  0.011751  0.025131  0.229335  0.132184 -0.005385 -0.000115   \n",
       "2   -0.326748 -0.742220  0.553856  1.051031  0.228749  0.290152 -0.002395   \n",
       "3    0.285725  0.559163  0.355292  0.068300  0.331360 -0.405980  0.001709   \n",
       "4    0.307943  0.606673 -0.590142 -0.428777  0.014704  0.075435 -0.004936   \n",
       "..        ...       ...       ...       ...       ...       ...       ...   \n",
       "822 -0.629262  0.798691 -0.209335  1.124360 -0.048739 -0.595422 -0.004466   \n",
       "823 -0.244456  0.073355 -0.187164  0.063603 -0.026707  0.145744 -0.000592   \n",
       "824 -0.099884  0.054667 -0.002805 -0.060626  0.126126  0.318818 -0.003586   \n",
       "825  0.150703  0.196883  0.162514  0.338568 -0.370584 -1.067648  0.001292   \n",
       "826  0.093226 -0.196630  0.309669 -0.125919 -0.132612 -0.111693 -0.001132   \n",
       "\n",
       "              826  \n",
       "0    1.332275e-14  \n",
       "1    1.332275e-14  \n",
       "2    1.332275e-14  \n",
       "3    1.332275e-14  \n",
       "4    1.332275e-14  \n",
       "..            ...  \n",
       "822  1.332275e-14  \n",
       "823  1.332275e-14  \n",
       "824  1.332275e-14  \n",
       "825  1.332275e-14  \n",
       "826  1.332275e-14  \n",
       "\n",
       "[827 rows x 827 columns]"
      ]
     },
     "execution_count": 139,
     "metadata": {},
     "output_type": "execute_result"
    }
   ],
   "source": [
    "X_reduced = pd.DataFrame(X_reduced)"
   ]
  },
  {
   "cell_type": "markdown",
   "id": "91f89761",
   "metadata": {},
   "source": [
    "## Clustering"
   ]
  },
  {
   "cell_type": "code",
   "execution_count": 148,
   "id": "498b70e1",
   "metadata": {},
   "outputs": [],
   "source": [
    "from sklearn.cluster import KMeans"
   ]
  },
  {
   "cell_type": "code",
   "execution_count": 149,
   "id": "7497b2aa",
   "metadata": {},
   "outputs": [],
   "source": [
    "kmeans = KMeans (n_clusters = 3)   #3 classes 0, 1 et 2\n",
    "\n",
    "y_cluster_pred =kmeans.fit_predict(X)\n",
    "\n"
   ]
  },
  {
   "cell_type": "code",
   "execution_count": 151,
   "id": "0286efd7",
   "metadata": {},
   "outputs": [
    {
     "name": "stdout",
     "output_type": "stream",
     "text": [
      "F1 score du Clustering= 0.7195446459912288\n"
     ]
    },
    {
     "data": {
      "text/plain": [
       "array([[595,  66,  20],\n",
       "       [116,  14,   4],\n",
       "       [ 11,   1,   0]], dtype=int64)"
      ]
     },
     "execution_count": 151,
     "metadata": {},
     "output_type": "execute_result"
    }
   ],
   "source": [
    "#On mesure le score sur les données test\n",
    "\n",
    "print('F1 score du Clustering=', f1_score(y_true,y_cluster_pred,average='weighted'))\n",
    "confusion_matrix(y_true,y_cluster_pred)"
   ]
  },
  {
   "cell_type": "markdown",
   "id": "8b42f5b2",
   "metadata": {},
   "source": []
  },
  {
   "cell_type": "code",
   "execution_count": null,
   "id": "9c644d32",
   "metadata": {},
   "outputs": [],
   "source": []
  },
  {
   "cell_type": "code",
   "execution_count": null,
   "id": "15eeec77",
   "metadata": {},
   "outputs": [],
   "source": []
  },
  {
   "cell_type": "code",
   "execution_count": null,
   "id": "c316eb80",
   "metadata": {},
   "outputs": [],
   "source": []
  },
  {
   "cell_type": "code",
   "execution_count": null,
   "id": "c00446b1",
   "metadata": {},
   "outputs": [],
   "source": []
  },
  {
   "cell_type": "code",
   "execution_count": null,
   "id": "e554668f",
   "metadata": {},
   "outputs": [],
   "source": []
  },
  {
   "cell_type": "code",
   "execution_count": null,
   "id": "30eb3b48",
   "metadata": {},
   "outputs": [],
   "source": []
  },
  {
   "cell_type": "code",
   "execution_count": null,
   "id": "858a7e34",
   "metadata": {},
   "outputs": [],
   "source": []
  },
  {
   "cell_type": "code",
   "execution_count": null,
   "id": "7a0032c7",
   "metadata": {},
   "outputs": [],
   "source": []
  },
  {
   "cell_type": "code",
   "execution_count": null,
   "id": "ffde9da6",
   "metadata": {},
   "outputs": [],
   "source": []
  },
  {
   "cell_type": "code",
   "execution_count": null,
   "id": "cdd36a69",
   "metadata": {},
   "outputs": [],
   "source": []
  },
  {
   "cell_type": "code",
   "execution_count": null,
   "id": "9f56e778",
   "metadata": {},
   "outputs": [],
   "source": []
  },
  {
   "cell_type": "code",
   "execution_count": null,
   "id": "8c8b0fee",
   "metadata": {},
   "outputs": [],
   "source": []
  },
  {
   "cell_type": "code",
   "execution_count": null,
   "id": "e629538d",
   "metadata": {},
   "outputs": [],
   "source": []
  },
  {
   "cell_type": "code",
   "execution_count": null,
   "id": "06ce1e6a",
   "metadata": {},
   "outputs": [],
   "source": []
  },
  {
   "cell_type": "code",
   "execution_count": null,
   "id": "c49c5b8c",
   "metadata": {},
   "outputs": [],
   "source": []
  },
  {
   "cell_type": "code",
   "execution_count": null,
   "id": "a6080ec4",
   "metadata": {},
   "outputs": [],
   "source": []
  },
  {
   "cell_type": "code",
   "execution_count": null,
   "id": "300b3000",
   "metadata": {},
   "outputs": [],
   "source": []
  },
  {
   "cell_type": "code",
   "execution_count": null,
   "id": "55ccf658",
   "metadata": {},
   "outputs": [],
   "source": []
  },
  {
   "cell_type": "code",
   "execution_count": null,
   "id": "c24f43d6",
   "metadata": {},
   "outputs": [],
   "source": []
  },
  {
   "cell_type": "code",
   "execution_count": null,
   "id": "60b29a15",
   "metadata": {},
   "outputs": [],
   "source": []
  },
  {
   "cell_type": "code",
   "execution_count": null,
   "id": "62c2301b",
   "metadata": {},
   "outputs": [],
   "source": []
  },
  {
   "cell_type": "code",
   "execution_count": null,
   "id": "63f3cd1d",
   "metadata": {},
   "outputs": [],
   "source": []
  },
  {
   "cell_type": "code",
   "execution_count": null,
   "id": "942b0535",
   "metadata": {},
   "outputs": [],
   "source": []
  },
  {
   "cell_type": "code",
   "execution_count": null,
   "id": "4fa5fd95",
   "metadata": {},
   "outputs": [],
   "source": []
  },
  {
   "cell_type": "code",
   "execution_count": null,
   "id": "031d85a4",
   "metadata": {},
   "outputs": [],
   "source": []
  },
  {
   "cell_type": "code",
   "execution_count": null,
   "id": "1f4eb120",
   "metadata": {},
   "outputs": [],
   "source": []
  },
  {
   "cell_type": "code",
   "execution_count": null,
   "id": "47e90e1b",
   "metadata": {},
   "outputs": [],
   "source": []
  },
  {
   "cell_type": "code",
   "execution_count": null,
   "id": "f8f4a910",
   "metadata": {},
   "outputs": [],
   "source": []
  },
  {
   "cell_type": "code",
   "execution_count": null,
   "id": "cda2c104",
   "metadata": {},
   "outputs": [],
   "source": []
  },
  {
   "cell_type": "code",
   "execution_count": null,
   "id": "c5a4e220",
   "metadata": {},
   "outputs": [],
   "source": []
  },
  {
   "cell_type": "code",
   "execution_count": null,
   "id": "8c328b1b",
   "metadata": {},
   "outputs": [],
   "source": []
  },
  {
   "cell_type": "code",
   "execution_count": null,
   "id": "2cacde26",
   "metadata": {},
   "outputs": [],
   "source": []
  },
  {
   "cell_type": "code",
   "execution_count": null,
   "id": "4a985806",
   "metadata": {},
   "outputs": [],
   "source": []
  },
  {
   "cell_type": "code",
   "execution_count": null,
   "id": "e145ef48",
   "metadata": {},
   "outputs": [],
   "source": []
  },
  {
   "cell_type": "code",
   "execution_count": null,
   "id": "4b56c1f7",
   "metadata": {},
   "outputs": [],
   "source": []
  },
  {
   "cell_type": "code",
   "execution_count": null,
   "id": "7efd9ae2",
   "metadata": {},
   "outputs": [],
   "source": []
  }
 ],
 "metadata": {
  "kernelspec": {
   "display_name": "Python 3",
   "language": "python",
   "name": "python3"
  },
  "language_info": {
   "codemirror_mode": {
    "name": "ipython",
    "version": 3
   },
   "file_extension": ".py",
   "mimetype": "text/x-python",
   "name": "python",
   "nbconvert_exporter": "python",
   "pygments_lexer": "ipython3",
   "version": "3.8.8"
  }
 },
 "nbformat": 4,
 "nbformat_minor": 5
}
